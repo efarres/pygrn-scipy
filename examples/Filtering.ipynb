








<!DOCTYPE html>
<html lang="en">

<head>
  <meta charset="utf-8">
  <title>Jupyter Notebook Viewer</title>
  <meta name="viewport" content="width=device-width, initial-scale=1.0">
  <meta name="description" content="">
  <meta name="author" content="">
  
  <meta name="robots" content="noindex,nofollow">
  

  <!--NEW RELIC Start Perf Measurement-->
  
  <!--NREND-->

  <!-- Le styles -->
  <link href="/static/build/styles.css?v=f2b0b1b8f36a035146061040aa080202" rel="stylesheet">

  <!-- Le HTML5 shim, for IE6-8 support of HTML5 elements -->
  <!--[if lt IE 9]>
    <script src="http://html5shim.googlecode.com/svn/trunk/html5.js"></script>
  <![endif]-->

  <!-- Le fav and touch icons -->
  <link rel="shortcut icon" href="/static/ico/ipynb_icon_16x16.png">
  <link rel="apple-touch-icon-precomposed" sizes="144x144"
        href="/static/ico/apple-touch-icon-144-precomposed.png?v=5a3c9ede93e2a8b8ea9e3f8f3da1a905">
  <link rel="apple-touch-icon-precomposed" sizes="114x114"
        href="/static/ico/apple-touch-icon-114-precomposed.png?v=45d86fc8f24dc00638035e1dd7a6d898">
  <link rel="apple-touch-icon-precomposed" sizes="72x72"
        href="/static/ico/apple-touch-icon-72-precomposed.png?v=540b5eb0f3cfd25f1439d1c9bd30e15f">
  <link rel="apple-touch-icon-precomposed"
        href="/static/ico/apple-touch-icon-57-precomposed.png?v=225f0590e187e1458625654f10a28f56">
  
  

  

  
  <meta name="twitter:card" content="summary">
  <meta name="twitter:title" content="Notebook on nbviewer">
  <meta name="twitter:description" content="Check out this Jupyter notebook!">

  
  <meta name="twitter:domain" content="nbviewer.jupyter.org">
  <meta name="twitter:image:src" content="http://ipython.org/ipython-doc/dev/_images/ipynb_icon_128x128.png">

  
    <link href="/static/build/notebook.css?v=81e0139371f853f9af20339dc0bcfaa6" rel="stylesheet">
  

  

  
    <script src="https://cdnjs.cloudflare.com/ajax/libs/mathjax/2.7.1/MathJax.js?config=TeX-AMS_HTML" type="text/javascript">
    </script>
    <script type="text/javascript">
      init_mathjax = function() {
        if (window.MathJax) {
          // MathJax loaded
          MathJax.Hub.Config({
            TeX: {
              equationNumbers: {
                autoNumber: "AMS",
                useLabelIds: true
              }
            },
            tex2jax: {
              inlineMath: [ ['$','$'], ["\\(","\\)"] ],
              displayMath: [ ['$$','$$'], ["\\[","\\]"] ],
              processEscapes: true,
              processEnvironments: true
            },
            displayAlign: 'center',
            "HTML-CSS": {
              styles: {'.MathJax_Display': {"margin": 0}},
              linebreaks: { automatic: true }
            }
          });
          MathJax.Hub.Queue(["Typeset", MathJax.Hub]);
        }
      }
      init_mathjax();
    </script>
  

  
    <script>
      (function() {
        function addWidgetsRenderer() {
          var mimeElement = document.querySelector('script[type="application/vnd.jupyter.widget-view+json"]');
          var scriptElement = document.createElement('script');
          var widgetRendererSrc = 'https://unpkg.com/@jupyter-widgets/html-manager@*/dist/embed-amd.js';
          var widgetState;

          try {
            widgetState = mimeElement && JSON.parse(mimeElement.innerHTML);

            if (widgetState && (widgetState.version_major < 2 || !widgetState.version_major)) {
              widgetRendererSrc = 'https://unpkg.com/jupyter-js-widgets@*/dist/embed.js';
            }
          } catch(e) {}

          scriptElement.src = widgetRendererSrc;
          document.body.appendChild(scriptElement);
        }

        document.addEventListener('DOMContentLoaded', addWidgetsRenderer);
      }());
    </script>
  

</head>

<body class="nbviewer">

  <!-- These are loaded at the top of the body so they are available to
       notebook cells when they are loaded below. -->
  <script src="/static/components/jquery/dist/jquery.min.js?v=a09e13ee94d51c524b7e2a728c7d4039"></script>
  <script src="/static/components/requirejs/require.js?v=6da8be361b9ee26c5e721e76c6d4afce"></script>
  <script src="/static/components/moment/min/moment.min.js?v=89f87298ad94aa1e6b92f42eb66da043"></script>
<!-- Navbar
================================================== -->
  <nav id="menubar" class="navbar navbar-default navbar-fixed-top" data-spy="affix">
    <div class="container">
      <div class="navbar-header">
        <button type="button" class="navbar-toggle collapsed" data-toggle="collapse" data-target=".navbar-collapse">
          <span class="sr-only">Toggle navigation</span>
          <i class="fa fa-bars"></i>
        </button>
        <a class="navbar-brand" href="/">
          <img src="/static/img/nav_logo.svg?v=479cefe8d932fb14a67b93911b97d70f" width="159"/>
        </a>
      </div>

      <div class="collapse navbar-collapse">
        <ul class="nav navbar-nav navbar-right">
          <li>
            <a class="active" href="http://jupyter.org">JUPYTER</a>
          </li>
          <li>
    <a href="/faq" title="FAQ" >
      
        <span>FAQ</span>
      
    </a>
  </li>

          
  
    
  
    
      
        <li>
    <a href="/format/script/github/unpingco/Python-for-Signal-Processing/blob/master/Filtering.ipynb" title="View as Code" >
      <span class="fa fa-code fa-2x menu-icon"></span>
      <span class="menu-text">View as Code</span>
    </a>
  </li>
      
    
  

  

  
    <li>
    <a href="https://github.com/unpingco/Python-for-Signal-Processing/blob/master/Filtering.ipynb" title="View on GitHub" >
      <span class="fa fa-github fa-2x menu-icon"></span>
      <span class="menu-text">View on GitHub</span>
    </a>
  </li>
  

  
    <li>
    <a href="https://mybinder.org/v2/gh/unpingco/Python-for-Signal-Processing/master?filepath=Filtering.ipynb" title="Execute on Binder" >
      <span class="fa fa-icon-binder fa-2x menu-icon"></span>
      <span class="menu-text">Execute on Binder</span>
    </a>
  </li>
  

  <li>
    <a href="https://raw.githubusercontent.com/unpingco/Python-for-Signal-Processing/master/Filtering.ipynb" title="Download Notebook" download>
      <span class="fa fa-download fa-2x menu-icon"></span>
      <span class="menu-text">Download Notebook</span>
    </a>
  </li>

        </ul>
      </div><!-- /.navbar-collapse -->
      
      
    </div>
  </nav>

  <div class="container container-main">
    
  
  <ol class="breadcrumb">
    
      <li>
        <a href="/github/unpingco/Python-for-Signal-Processing/tree/master">Python-for-Signal-Processing</a>
      </li>
    
      <li>
        <a href="/github/unpingco/Python-for-Signal-Processing/tree/master/Filtering.ipynb">Filtering.ipynb</a>
      </li>
    
  </ol>
  
  <div id="notebook">
    <div id="notebook-container">
      
<div class="cell border-box-sizing text_cell rendered"><div class="prompt input_prompt">
</div>
<div class="inner_cell">
<div class="text_cell_render border-box-sizing rendered_html">
<h2 id="Introduction">Introduction<a class="anchor-link" href="#Introduction">&#182;</a></h2><p>Filtering means preserving certain favored signal frequencies while simultaneously suppressing others. At first, this may seem as easy as simply removing  all the offending frequencies of interest in the Fourier transform and keeping the rest, but, as we will see, practical considerations prohibit this. There are many, many approaches to filtering and here we focus on the popular finite impulse response (FIR) filters. As the name suggests, these filters have no feedback loops, which means that they stop producing output when the input runs out. These are very popular in practice, with blazing-fast on-chip implementations and easy-to-understand, flexible design specifications. This section introduces the main concepts of FIR filter design.</p>

</div>
</div>
</div>
<div class="cell border-box-sizing text_cell rendered"><div class="prompt input_prompt">
</div>
<div class="inner_cell">
<div class="text_cell_render border-box-sizing rendered_html">
<h3 id="Finite-Impulse-Response-Filters-as-Moving-Averages">Finite Impulse Response Filters as Moving Averages<a class="anchor-link" href="#Finite-Impulse-Response-Filters-as-Moving-Averages">&#182;</a></h3><p>Finite Impulse Response (FIR) filters have the following form:</p>
<p>$$ y_n = \sum_{k=0}^{M-1} h_k x_{n-k} $$</p>
<p>with real input $ x_n $ and real output $ y_n $. These are called <em>finite</em> impulse response because they stop after running out of input (i.e. there is no feedback to keep this going indefinitely on its own). These are also sometimes called <em>moving average</em> filters or <em>all-zero</em> filters. The word <em>taps</em> is used for $ M $  so a <em>10-tap</em> filter has $ M=10 $ coefficients. For example, given the two-tap filter, $ h_0 = h_1 = 1/2 $, we have</p>
<p>$$ y_n = x_{n}/2 + x_{n-1}/2 $$</p>
<p>For example, for input $ x_n=1 \hspace{.5em} \forall n \ge 0 $,  $ y_n = 1 \hspace{.5em} \forall n \ge 1  $. Note that we lose one sample in filling the filter for $ n=0 $ which means we have to wait one sample for a valid filter output. This is the filter's  <em>transient</em> state.  As another example, for input 
 $ x_n= \exp \left( j\pi n \right)  \hspace{.5em} \forall n\ge 0 $, then $ y_n=0 \forall n \ge 1  $. These two cases show that this moving average has eliminated   the highest frequency signal ($ \omega=\pi $) and preserved the lowest frequency signal ($ \omega=0 $).</p>
<p>Let's analyze this filter using the tools in the <code>scipy.signal</code> module.</p>

</div>
</div>
</div>
<div class="cell border-box-sizing code_cell rendered">
<div class="input">
<div class="prompt input_prompt">In&nbsp;[1]:</div>
<div class="inner_cell">
    <div class="input_area">
<div class=" highlight hl-ipython3"><pre><span></span><span class="kn">from</span> <span class="nn">__future__</span> <span class="k">import</span> <span class="n">division</span>
<span class="kn">from</span> <span class="nn">scipy</span> <span class="k">import</span> <span class="n">signal</span> 

<span class="n">fig</span><span class="p">,</span> <span class="n">axs</span> <span class="o">=</span> <span class="n">subplots</span><span class="p">(</span><span class="mi">2</span><span class="p">,</span><span class="mi">1</span><span class="p">,</span><span class="n">sharex</span><span class="o">=</span><span class="kc">True</span><span class="p">)</span>
<span class="n">subplots_adjust</span><span class="p">(</span> <span class="n">hspace</span> <span class="o">=</span> <span class="o">.</span><span class="mi">2</span> <span class="p">)</span>
<span class="n">fig</span><span class="o">.</span><span class="n">set_size_inches</span><span class="p">((</span><span class="mi">5</span><span class="p">,</span><span class="mi">5</span><span class="p">))</span>

<span class="n">ax</span><span class="o">=</span><span class="n">axs</span><span class="p">[</span><span class="mi">0</span><span class="p">]</span>
<span class="n">w</span><span class="p">,</span><span class="n">h</span><span class="o">=</span><span class="n">signal</span><span class="o">.</span><span class="n">freqz</span><span class="p">([</span><span class="mi">1</span><span class="o">/</span><span class="mf">2.</span><span class="p">,</span> <span class="mi">1</span><span class="o">/</span><span class="mf">2.</span><span class="p">],</span><span class="mi">1</span><span class="p">)</span> <span class="c1"># Compute impulse response</span>
<span class="n">ax</span><span class="o">.</span><span class="n">plot</span><span class="p">(</span><span class="n">w</span><span class="p">,</span><span class="mi">20</span><span class="o">*</span><span class="n">log10</span><span class="p">(</span><span class="nb">abs</span><span class="p">(</span><span class="n">h</span><span class="p">)))</span>
<span class="n">ax</span><span class="o">.</span><span class="n">set_ylabel</span><span class="p">(</span><span class="sa">r</span><span class="s2">&quot;$20 \log_</span><span class="si">{10}</span><span class="s2"> |H(\omega)| $&quot;</span><span class="p">,</span><span class="n">fontsize</span><span class="o">=</span><span class="mi">18</span><span class="p">)</span>
<span class="n">ax</span><span class="o">.</span><span class="n">grid</span><span class="p">()</span>

<span class="n">ax</span><span class="o">=</span><span class="n">axs</span><span class="p">[</span><span class="mi">1</span><span class="p">]</span>
<span class="n">ax</span><span class="o">.</span><span class="n">plot</span><span class="p">(</span><span class="n">w</span><span class="p">,</span><span class="n">angle</span><span class="p">(</span><span class="n">h</span><span class="p">)</span><span class="o">/</span><span class="n">pi</span><span class="o">*</span><span class="mi">180</span><span class="p">)</span>
<span class="n">ax</span><span class="o">.</span><span class="n">set_xlabel</span><span class="p">(</span><span class="sa">r</span><span class="s1">&#39;$\omega$ (radians/s)&#39;</span><span class="p">,</span><span class="n">fontsize</span><span class="o">=</span><span class="mi">18</span><span class="p">)</span>
<span class="n">ax</span><span class="o">.</span><span class="n">set_ylabel</span><span class="p">(</span><span class="sa">r</span><span class="s2">&quot;$\phi $ (deg)&quot;</span><span class="p">,</span><span class="n">fontsize</span><span class="o">=</span><span class="mi">18</span><span class="p">)</span>
<span class="n">ax</span><span class="o">.</span><span class="n">set_xlim</span><span class="p">(</span><span class="n">xmax</span> <span class="o">=</span> <span class="n">pi</span><span class="p">)</span>
<span class="n">ax</span><span class="o">.</span><span class="n">grid</span><span class="p">()</span>

<span class="c1"># fig.savefig(&#39;<a href="/cdn-cgi/l/email-protection" class="__cf_email__" data-cfemail="c9afa0aebcbbac96f9f989e7b9a7ae">[email&#160;protected]</a>&#39;, bbox_inches=&#39;tight&#39;, dpi=300)</span>
</pre></div>

</div>
</div>
</div>

<div class="output_wrapper">
<div class="output">


<div class="output_area">

<div class="prompt"></div>




<div class="output_png output_subarea ">
<img src="data:image/png;base64,iVBORw0KGgoAAAANSUhEUgAAAVcAAAFOCAYAAAAy6F5LAAAABHNCSVQICAgIfAhkiAAAAAlwSFlz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"
>
</div>

</div>

</div>
</div>

</div>
<div class="cell border-box-sizing text_cell rendered"><div class="prompt input_prompt">
</div>
<div class="inner_cell">
<div class="text_cell_render border-box-sizing rendered_html">
<p>In the figure above, the top plot shows the amplitude response of the filter (in dB) and the bottom plot shows  the phase response in degrees. At $\omega=0 $, we have $|H(\omega=0)|=1 $ (i.e unity-gain) which says that our moving average filter does not change the amplitude of signals at $ \omega=0 $. We observed this earlier with $x_n=1 $ that produced $y_n=1 $. When we consider the other extreme with $\omega= \pi $, we have $|H(\omega=\pi)|=0$ which we observed earlier for $ x_n= \exp \left( j\pi n \right)  \hspace{.5em} \forall \hspace{.5em} n \ge 0 $. Thus, signals at $ \omega=\pi $ are completely zero-ed out by the filter.</p>
<p>Now, let's consider a signal halfway between this two extremes:</p>
<p>$$ x_n= \exp \left( j\pi n/2 \right)  \hspace{.5em} \forall \hspace{.5em} n \ge 0 $$</p>
<p>The following figure shows the filter's corresponding output.</p>

</div>
</div>
</div>
<div class="cell border-box-sizing code_cell rendered">
<div class="input">
<div class="prompt input_prompt">In&nbsp;[2]:</div>
<div class="inner_cell">
    <div class="input_area">
<div class=" highlight hl-ipython3"><pre><span></span><span class="n">Ns</span><span class="o">=</span><span class="mi">30</span> <span class="c1"># length of input sequence</span>
<span class="n">n</span><span class="o">=</span> <span class="n">arange</span><span class="p">(</span><span class="n">Ns</span><span class="p">)</span> <span class="c1"># sample index</span>
<span class="n">x</span> <span class="o">=</span> <span class="n">cos</span><span class="p">(</span><span class="n">arange</span><span class="p">(</span><span class="n">Ns</span><span class="p">)</span><span class="o">*</span><span class="n">pi</span><span class="o">/</span><span class="mf">2.</span><span class="p">)</span>
<span class="n">y</span><span class="o">=</span> <span class="n">signal</span><span class="o">.</span><span class="n">lfilter</span><span class="p">([</span><span class="mi">1</span><span class="o">/</span><span class="mf">2.</span><span class="p">,</span><span class="mi">1</span><span class="o">/</span><span class="mf">2.</span><span class="p">],</span><span class="mi">1</span><span class="p">,</span><span class="n">x</span><span class="p">)</span>

<span class="n">fig</span><span class="p">,</span><span class="n">ax</span> <span class="o">=</span> <span class="n">subplots</span><span class="p">(</span><span class="mi">1</span><span class="p">,</span><span class="mi">1</span><span class="p">)</span>
<span class="n">fig</span><span class="o">.</span><span class="n">set_size_inches</span><span class="p">(</span><span class="mi">10</span><span class="p">,</span><span class="mi">3</span><span class="p">)</span>

<span class="n">ax</span><span class="o">.</span><span class="n">stem</span><span class="p">(</span><span class="n">n</span><span class="p">,</span><span class="n">x</span><span class="p">,</span><span class="n">label</span><span class="o">=</span><span class="s1">&#39;input&#39;</span><span class="p">,</span><span class="n">basefmt</span><span class="o">=</span><span class="s1">&#39;b-&#39;</span><span class="p">)</span>
<span class="n">ax</span><span class="o">.</span><span class="n">plot</span><span class="p">(</span><span class="n">n</span><span class="p">,</span><span class="n">x</span><span class="p">,</span><span class="s1">&#39;:&#39;</span><span class="p">)</span>
<span class="n">ax</span><span class="o">.</span><span class="n">stem</span><span class="p">(</span><span class="n">n</span><span class="p">[</span><span class="mi">1</span><span class="p">:],</span><span class="n">y</span><span class="p">[:</span><span class="o">-</span><span class="mi">1</span><span class="p">],</span><span class="n">markerfmt</span><span class="o">=</span><span class="s1">&#39;ro&#39;</span><span class="p">,</span><span class="n">linefmt</span><span class="o">=</span><span class="s1">&#39;r-&#39;</span><span class="p">,</span><span class="n">label</span><span class="o">=</span><span class="s1">&#39;output&#39;</span><span class="p">)</span>
<span class="n">ax</span><span class="o">.</span><span class="n">plot</span><span class="p">(</span><span class="n">n</span><span class="p">[</span><span class="mi">1</span><span class="p">:],</span><span class="n">y</span><span class="p">[:</span><span class="o">-</span><span class="mi">1</span><span class="p">],</span><span class="s1">&#39;r:&#39;</span><span class="p">)</span>
<span class="n">ax</span><span class="o">.</span><span class="n">set_xlim</span><span class="p">(</span><span class="n">xmin</span><span class="o">=-</span><span class="mf">1.1</span><span class="p">)</span>
<span class="n">ax</span><span class="o">.</span><span class="n">set_ylim</span><span class="p">(</span><span class="n">ymin</span><span class="o">=-</span><span class="mf">1.1</span><span class="p">,</span><span class="n">ymax</span><span class="o">=</span><span class="mf">1.1</span><span class="p">)</span>
<span class="n">ax</span><span class="o">.</span><span class="n">set_xlabel</span><span class="p">(</span><span class="s2">&quot;n&quot;</span><span class="p">,</span><span class="n">fontsize</span><span class="o">=</span><span class="mi">18</span><span class="p">)</span>
<span class="n">ax</span><span class="o">.</span><span class="n">legend</span><span class="p">(</span><span class="n">loc</span><span class="o">=</span><span class="mi">0</span><span class="p">)</span>
<span class="n">ax</span><span class="o">.</span><span class="n">set_xticks</span><span class="p">(</span><span class="n">n</span><span class="p">)</span>
<span class="n">ax</span><span class="o">.</span><span class="n">set_ylabel</span><span class="p">(</span><span class="s2">&quot;amplitude&quot;</span><span class="p">,</span><span class="n">fontsize</span><span class="o">=</span><span class="mi">18</span><span class="p">);</span>

<span class="c1"># fig.savefig(&#39;<a href="/cdn-cgi/l/email-protection" class="__cf_email__" data-cfemail="791f101e0c0b1c264949395709171e">[email&#160;protected]</a>&#39;, bbox_inches=&#39;tight&#39;, dpi=300)</span>
</pre></div>

</div>
</div>
</div>

<div class="output_wrapper">
<div class="output">


<div class="output_area">

<div class="prompt output_prompt">Out[2]:</div>




<div class="output_text output_subarea output_execute_result">
<pre>&lt;matplotlib.text.Text at 0x548abb0&gt;</pre>
</div>

</div>

<div class="output_area">

<div class="prompt"></div>




<div class="output_png output_subarea ">
<img src="data:image/png;base64,iVBORw0KGgoAAAANSUhEUgAAAm0AAADQCAYAAABVwFY8AAAABHNCSVQICAgIfAhkiAAAAAlwSFlz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"
>
</div>

</div>

</div>
</div>

</div>
<div class="cell border-box-sizing text_cell rendered"><div class="prompt input_prompt">
</div>
<div class="inner_cell">
<div class="text_cell_render border-box-sizing rendered_html">
<p>The figure above shows the input/output time-domain response of the filter when  $\omega=\pi/2 $. At this point, $ |H(\omega)|^2 = 1/2 $ meaning the signal energy has been cut in half which is shown by the corresponding lower amplitude of the output signal. The signal phase has been shifted by 45 degrees. To see this, note that the input signal repeats every four samples (360 degrees). The graph above shows that the signal phase has shifted -45 degrees which is equivalent to a shift of one-half sample. Note that <code>signal.lfilter</code> automatically inserts a zero initial condition so we had to drop that one incomplete output point to line up the plots.  By interpreting the magnitude/phase plots above, we can reconcile the filter's input/output behavior in the time domain.</p>
<p>What happens when we lengthen our moving average filter to consider averaging over eight samples instead of two?</p>

</div>
</div>
</div>
<div class="cell border-box-sizing code_cell rendered">
<div class="input">
<div class="prompt input_prompt">In&nbsp;[3]:</div>
<div class="inner_cell">
    <div class="input_area">
<div class=" highlight hl-ipython3"><pre><span></span><span class="kn">from</span> <span class="nn">matplotlib</span> <span class="k">import</span> <span class="n">gridspec</span>

<span class="n">fig</span><span class="o">=</span><span class="n">figure</span><span class="p">()</span>
<span class="n">fig</span><span class="o">.</span><span class="n">set_size_inches</span><span class="p">((</span><span class="mi">10</span><span class="p">,</span><span class="mi">5</span><span class="p">))</span>

<span class="n">gs</span> <span class="o">=</span> <span class="n">gridspec</span><span class="o">.</span><span class="n">GridSpec</span><span class="p">(</span><span class="mi">2</span><span class="p">,</span><span class="mi">2</span><span class="p">)</span>
<span class="n">gs</span><span class="o">.</span><span class="n">update</span><span class="p">(</span> <span class="n">wspace</span><span class="o">=</span><span class="mf">0.5</span><span class="p">,</span> <span class="n">hspace</span><span class="o">=</span><span class="mf">0.5</span><span class="p">)</span>

<span class="n">ax</span> <span class="o">=</span> <span class="n">fig</span><span class="o">.</span><span class="n">add_subplot</span><span class="p">(</span><span class="n">subplot</span><span class="p">(</span><span class="n">gs</span><span class="p">[</span><span class="mi">0</span><span class="p">,</span><span class="mi">0</span><span class="p">]))</span>

<span class="n">ma_length</span> <span class="o">=</span> <span class="mi">8</span> <span class="c1"># moving average filter length</span>
<span class="n">w</span><span class="p">,</span><span class="n">h</span><span class="o">=</span><span class="n">signal</span><span class="o">.</span><span class="n">freqz</span><span class="p">(</span><span class="n">ones</span><span class="p">(</span><span class="n">ma_length</span><span class="p">)</span><span class="o">/</span><span class="n">ma_length</span><span class="p">,</span><span class="mi">1</span><span class="p">)</span>
<span class="n">ax</span><span class="o">.</span><span class="n">plot</span><span class="p">(</span><span class="n">w</span><span class="p">,</span><span class="mi">20</span><span class="o">*</span><span class="n">log10</span><span class="p">(</span><span class="nb">abs</span><span class="p">(</span><span class="n">h</span><span class="p">)))</span>
<span class="n">ax</span><span class="o">.</span><span class="n">set_ylabel</span><span class="p">(</span><span class="sa">r</span><span class="s2">&quot;$ 20 \log_</span><span class="si">{10}</span><span class="s2">|H(\omega)| $&quot;</span><span class="p">,</span><span class="n">fontsize</span><span class="o">=</span><span class="mi">18</span><span class="p">)</span>
<span class="n">ax</span><span class="o">.</span><span class="n">set_xlabel</span><span class="p">(</span><span class="sa">r</span><span class="s2">&quot;$\omega$&quot;</span><span class="p">,</span><span class="n">fontsize</span><span class="o">=</span><span class="mi">18</span><span class="p">)</span>
<span class="n">ax</span><span class="o">.</span><span class="n">vlines</span><span class="p">(</span><span class="n">pi</span><span class="o">/</span><span class="mi">3</span><span class="p">,</span><span class="o">-</span><span class="mi">25</span><span class="p">,</span><span class="mi">0</span><span class="p">,</span><span class="n">linestyles</span><span class="o">=</span><span class="s1">&#39;:&#39;</span><span class="p">,</span><span class="n">color</span><span class="o">=</span><span class="s1">&#39;r&#39;</span><span class="p">,</span><span class="n">lw</span><span class="o">=</span><span class="mf">3.</span><span class="p">)</span>
<span class="n">ax</span><span class="o">.</span><span class="n">set_ylim</span><span class="p">(</span><span class="n">ymin</span><span class="o">=-</span><span class="mi">25</span><span class="p">)</span>
<span class="n">ax</span><span class="o">.</span><span class="n">grid</span><span class="p">()</span>

<span class="n">ax</span> <span class="o">=</span> <span class="n">fig</span><span class="o">.</span><span class="n">add_subplot</span><span class="p">(</span><span class="n">subplot</span><span class="p">(</span><span class="n">gs</span><span class="p">[</span><span class="mi">0</span><span class="p">,</span><span class="mi">1</span><span class="p">]))</span>
<span class="n">ax</span><span class="o">.</span><span class="n">plot</span><span class="p">(</span><span class="n">w</span><span class="p">,</span><span class="n">angle</span><span class="p">(</span><span class="n">h</span><span class="p">)</span><span class="o">/</span><span class="n">pi</span><span class="o">*</span><span class="mi">180</span><span class="p">)</span>
<span class="n">ax</span><span class="o">.</span><span class="n">set_xlabel</span><span class="p">(</span><span class="sa">r</span><span class="s1">&#39;$\omega$ (radians/s)&#39;</span><span class="p">,</span><span class="n">fontsize</span><span class="o">=</span><span class="mi">18</span><span class="p">)</span>
<span class="n">ax</span><span class="o">.</span><span class="n">set_ylabel</span><span class="p">(</span><span class="sa">r</span><span class="s2">&quot;$\phi $ (deg)&quot;</span><span class="p">,</span><span class="n">fontsize</span><span class="o">=</span><span class="mi">16</span><span class="p">)</span>
<span class="n">ax</span><span class="o">.</span><span class="n">set_xlim</span><span class="p">(</span><span class="n">xmax</span> <span class="o">=</span> <span class="n">pi</span><span class="p">)</span>
<span class="n">ax</span><span class="o">.</span><span class="n">set_ylim</span><span class="p">(</span><span class="n">ymin</span><span class="o">=-</span><span class="mi">180</span><span class="p">,</span><span class="n">ymax</span><span class="o">=</span><span class="mi">180</span><span class="p">)</span>
<span class="n">ax</span><span class="o">.</span><span class="n">vlines</span><span class="p">(</span><span class="n">pi</span><span class="o">/</span><span class="mi">3</span><span class="p">,</span><span class="o">-</span><span class="mi">180</span><span class="p">,</span><span class="mi">180</span><span class="p">,</span><span class="n">linestyles</span><span class="o">=</span><span class="s1">&#39;:&#39;</span><span class="p">,</span><span class="n">color</span><span class="o">=</span><span class="s1">&#39;r&#39;</span><span class="p">,</span><span class="n">lw</span><span class="o">=</span><span class="mf">3.</span><span class="p">)</span>
<span class="n">ax</span><span class="o">.</span><span class="n">grid</span><span class="p">()</span>

<span class="n">ax</span> <span class="o">=</span> <span class="n">fig</span><span class="o">.</span><span class="n">add_subplot</span><span class="p">(</span><span class="n">subplot</span><span class="p">(</span><span class="n">gs</span><span class="p">[</span><span class="mi">1</span><span class="p">,:]))</span>
<span class="n">Ns</span><span class="o">=</span><span class="mi">30</span>
<span class="n">n</span><span class="o">=</span> <span class="n">arange</span><span class="p">(</span><span class="n">Ns</span><span class="p">)</span>
<span class="n">x</span> <span class="o">=</span> <span class="n">cos</span><span class="p">(</span><span class="n">arange</span><span class="p">(</span><span class="n">Ns</span><span class="p">)</span><span class="o">*</span><span class="n">pi</span><span class="o">/</span><span class="mf">3.</span><span class="p">)</span>
<span class="n">y</span><span class="o">=</span> <span class="n">signal</span><span class="o">.</span><span class="n">lfilter</span><span class="p">(</span><span class="n">ones</span><span class="p">(</span><span class="n">ma_length</span><span class="p">)</span><span class="o">/</span><span class="n">ma_length</span><span class="p">,</span><span class="mi">1</span><span class="p">,</span><span class="n">x</span><span class="p">)</span>

<span class="n">ax</span><span class="o">.</span><span class="n">stem</span><span class="p">(</span><span class="n">n</span><span class="p">,</span><span class="n">x</span><span class="p">,</span><span class="n">label</span><span class="o">=</span><span class="s1">&#39;input&#39;</span><span class="p">,</span><span class="n">basefmt</span><span class="o">=</span><span class="s1">&#39;b-&#39;</span><span class="p">)</span>
<span class="n">ax</span><span class="o">.</span><span class="n">plot</span><span class="p">(</span><span class="n">n</span><span class="p">,</span><span class="n">x</span><span class="p">,</span><span class="s1">&#39;:&#39;</span><span class="p">)</span>
<span class="n">ax</span><span class="o">.</span><span class="n">stem</span><span class="p">(</span><span class="n">n</span><span class="p">[</span><span class="n">ma_length</span><span class="o">-</span><span class="mi">1</span><span class="p">:],</span><span class="n">y</span><span class="p">[:</span><span class="o">-</span><span class="n">ma_length</span><span class="o">+</span><span class="mi">1</span><span class="p">],</span><span class="n">markerfmt</span><span class="o">=</span><span class="s1">&#39;ro&#39;</span><span class="p">,</span><span class="n">linefmt</span><span class="o">=</span><span class="s1">&#39;r-&#39;</span><span class="p">,</span><span class="n">label</span><span class="o">=</span><span class="s1">&#39;output&#39;</span><span class="p">)</span>
<span class="n">ax</span><span class="o">.</span><span class="n">plot</span><span class="p">(</span><span class="n">n</span><span class="p">[</span><span class="n">ma_length</span><span class="o">-</span><span class="mi">1</span><span class="p">:],</span><span class="n">y</span><span class="p">[:</span><span class="o">-</span><span class="n">ma_length</span><span class="o">+</span><span class="mi">1</span><span class="p">],</span><span class="s1">&#39;r:&#39;</span><span class="p">)</span>
<span class="n">ax</span><span class="o">.</span><span class="n">set_xlim</span><span class="p">(</span><span class="n">xmin</span><span class="o">=-</span><span class="mf">1.1</span><span class="p">)</span>
<span class="n">ax</span><span class="o">.</span><span class="n">set_ylim</span><span class="p">(</span><span class="n">ymin</span><span class="o">=-</span><span class="mf">1.1</span><span class="p">,</span><span class="n">ymax</span><span class="o">=</span><span class="mf">1.1</span><span class="p">)</span>
<span class="n">ax</span><span class="o">.</span><span class="n">set_xlabel</span><span class="p">(</span><span class="s2">&quot;n&quot;</span><span class="p">,</span><span class="n">fontsize</span><span class="o">=</span><span class="mi">18</span><span class="p">)</span>
<span class="n">ax</span><span class="o">.</span><span class="n">set_xticks</span><span class="p">(</span><span class="n">n</span><span class="p">)</span>
<span class="n">ax</span><span class="o">.</span><span class="n">legend</span><span class="p">(</span><span class="n">loc</span><span class="o">=</span><span class="mi">0</span><span class="p">)</span>
<span class="n">ax</span><span class="o">.</span><span class="n">set_ylabel</span><span class="p">(</span><span class="s2">&quot;amplitude&quot;</span><span class="p">,</span><span class="n">fontsize</span><span class="o">=</span><span class="mi">18</span><span class="p">);</span>

<span class="c1"># fig.savefig(&#39;<a href="/cdn-cgi/l/email-protection" class="__cf_email__" data-cfemail="55333c322027300a6565157b253b32">[email&#160;protected]</a>&#39;, bbox_inches=&#39;tight&#39;, dpi=300)</span>
</pre></div>

</div>
</div>
</div>

<div class="output_wrapper">
<div class="output">


<div class="output_area">

<div class="prompt output_prompt">Out[3]:</div>




<div class="output_text output_subarea output_execute_result">
<pre>&lt;matplotlib.text.Text at 0x721ac30&gt;</pre>
</div>

</div>

<div class="output_area">

<div class="prompt"></div>




<div class="output_png output_subarea ">
<img src="data:image/png;base64,iVBORw0KGgoAAAANSUhEUgAAAm4AAAFECAYAAACed7LeAAAABHNCSVQICAgIfAhkiAAAAAlwSFlz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"
>
</div>

</div>

</div>
</div>

</div>
<div class="cell border-box-sizing text_cell rendered"><div class="prompt input_prompt">
</div>
<div class="inner_cell">
<div class="text_cell_render border-box-sizing rendered_html">
<p>The figure above shows the magnitude and phase responses of the longer moving average filter. The zig-zag lines of the phase plot are due to the wrap-around of the phase as it wraps around   180 degree mark. The bottom plot shows the input/output sequences. Note that the output is delayed by the length of the input filter. Because the frequency of the input signal is $ 2\pi/6 $, its period is $T=6$ samples the input signal repeats every six samples. According to the phase plot above, the phase at this discrete frequency is approximately 30 degrees plus the 180 degree jump, the output sequence is shifted over by half a sample ($ 30/360 = 0.5/6 $) plus the 3 samples (half the six sample period, $ 180/360=1/2 $). Note that the magnitude plot shows multiple lobes and dips at discrete frequencies where the output is zero-ed out by the filter. Thus, even though we just lengthened our moving average filter by a few samples, we have encountered much more complicated amplitude and phase behavior. We need to assemble the right tools to understand this problem in general.</p>

</div>
</div>
</div>
<div class="cell border-box-sizing text_cell rendered"><div class="prompt input_prompt">
</div>
<div class="inner_cell">
<div class="text_cell_render border-box-sizing rendered_html">
<h2 id="Fourier-Transform-of-the-Discrete-Sequence">Fourier Transform of the Discrete Sequence<a class="anchor-link" href="#Fourier-Transform-of-the-Discrete-Sequence">&#182;</a></h2><p>So far in these pages, we have considered samples of the Fourier transform      at discrete frequences ($ \omega = \frac{2\pi}{N} k $). Now we want to consider the Fourier Transform of the discrete input at <em>continuous</em> frequency defined as the following:</p>
<p>$$ H(\omega) = \sum_{n\in \mathbb{Z}} h_n \exp \left( -j\omega n \right) $$</p>
<p>Note that this is periodic, $H(\omega)=H(\omega+2\pi)$.</p>
<h3 id="Filter-output-as-discrete-convolution">Filter output as discrete convolution<a class="anchor-link" href="#Filter-output-as-discrete-convolution">&#182;</a></h3><p>The discrete convolution of infinite sequences $ x_n $ and $ h_n $ is defined as</p>
<p>$$ y_n = \sum_{k\in \mathbb{Z}} x_k^* h_{n-k} $$</p>
<p>where the asterisk superscript denotes  complex conjugation.  If we have a finite filter length of $ M $ ($ h_n =0, \forall n \notin \{0,1,...,M-1\} $), then the filter output reduces to</p>
<p>$$ y_n = \sum_{k=0}^{M-1} h_k x_{n-k} $$</p>
<p>Note this is closely related to but not the  same as the circular convolution we have already discussed because there is no wrap-around. However, because it is very efficient to compute this using a DFT, we need to relate these two versions of convolution.</p>
<h3 id="Convolution-using-the-DFT">Convolution using the DFT<a class="anchor-link" href="#Convolution-using-the-DFT">&#182;</a></h3><p>If $x_n$ is nonzero for $ P $ samples, then the output $ y_n $ is non-zero only for $ P+M-1 $ samples. Thus, if we zero-pad each sequence out to this length, take the DFT, multiply the DFTs, and then invert the DFTs, we obtain the results of this non-circular convolution. Let's code this up below using our last example.</p>

</div>
</div>
</div>
<div class="cell border-box-sizing code_cell rendered">
<div class="input">
<div class="prompt input_prompt">In&nbsp;[4]:</div>
<div class="inner_cell">
    <div class="input_area">
<div class=" highlight hl-ipython3"><pre><span></span><span class="n">h</span><span class="o">=</span><span class="n">ones</span><span class="p">(</span><span class="n">ma_length</span><span class="p">)</span><span class="o">/</span><span class="n">ma_length</span> <span class="c1"># filter sequence</span>
<span class="n">yc</span><span class="o">=</span><span class="n">fft</span><span class="o">.</span><span class="n">ifft</span><span class="p">(</span><span class="n">fft</span><span class="o">.</span><span class="n">fft</span><span class="p">(</span><span class="n">h</span><span class="p">,</span><span class="nb">len</span><span class="p">(</span><span class="n">x</span><span class="p">)</span><span class="o">+</span><span class="nb">len</span><span class="p">(</span><span class="n">h</span><span class="p">)</span><span class="o">-</span><span class="mi">1</span><span class="p">)</span><span class="o">*</span><span class="n">np</span><span class="o">.</span><span class="n">conj</span><span class="p">(</span><span class="n">fft</span><span class="o">.</span><span class="n">fft</span><span class="p">(</span><span class="n">x</span><span class="p">,</span><span class="nb">len</span><span class="p">(</span><span class="n">x</span><span class="p">)</span><span class="o">+</span><span class="nb">len</span><span class="p">(</span><span class="n">h</span><span class="p">)</span><span class="o">-</span><span class="mi">1</span><span class="p">)))</span><span class="o">.</span><span class="n">real</span>

<span class="n">fig</span><span class="p">,</span><span class="n">ax</span><span class="o">=</span><span class="n">subplots</span><span class="p">()</span>
<span class="n">fig</span><span class="o">.</span><span class="n">set_size_inches</span><span class="p">((</span><span class="mi">10</span><span class="p">,</span><span class="mi">2</span><span class="p">))</span>
<span class="n">ax</span><span class="o">.</span><span class="n">plot</span><span class="p">(</span><span class="n">n</span><span class="p">,</span><span class="n">yc</span><span class="p">[</span><span class="n">ma_length</span><span class="o">-</span><span class="mi">1</span><span class="p">:],</span><span class="s1">&#39;o-&#39;</span><span class="p">,</span><span class="n">label</span><span class="o">=</span><span class="s1">&#39;DFT method&#39;</span><span class="p">)</span>
<span class="n">ax</span><span class="o">.</span><span class="n">plot</span><span class="p">(</span><span class="n">n</span><span class="p">,</span><span class="n">y</span><span class="p">,</span><span class="n">label</span><span class="o">=</span><span class="s1">&#39;lfilter&#39;</span><span class="p">)</span>
<span class="n">ax</span><span class="o">.</span><span class="n">set_title</span><span class="p">(</span><span class="s1">&#39;DFT method vs. signal.lfilter&#39;</span><span class="p">,</span><span class="n">fontsize</span><span class="o">=</span><span class="mi">18</span><span class="p">)</span>
<span class="n">ax</span><span class="o">.</span><span class="n">set_xlabel</span><span class="p">(</span><span class="s1">&#39;n&#39;</span><span class="p">,</span><span class="n">fontsize</span><span class="o">=</span><span class="mi">18</span><span class="p">)</span>
<span class="n">ax</span><span class="o">.</span><span class="n">set_ylabel</span><span class="p">(</span><span class="s1">&#39;amplitude&#39;</span><span class="p">,</span><span class="n">fontsize</span><span class="o">=</span><span class="mi">18</span><span class="p">)</span>
<span class="n">ax</span><span class="o">.</span><span class="n">legend</span><span class="p">(</span><span class="n">loc</span><span class="o">=</span><span class="mi">0</span><span class="p">)</span>
<span class="n">ax</span><span class="o">.</span><span class="n">set_xticks</span><span class="p">(</span><span class="n">n</span><span class="p">);</span>

<span class="c1"># fig.savefig(&#39;<a href="/cdn-cgi/l/email-protection" class="__cf_email__" data-cfemail="a2c4cbc5d7d0c7fd9292e28cd2ccc5">[email&#160;protected]</a>&#39;, bbox_inches=&#39;tight&#39;, dpi=300)</span>
</pre></div>

</div>
</div>
</div>

<div class="output_wrapper">
<div class="output">


<div class="output_area">

<div class="prompt output_prompt">Out[4]:</div>




<div class="output_text output_subarea output_execute_result">
<pre>[&lt;matplotlib.axis.XTick at 0x7097f50&gt;,
 &lt;matplotlib.axis.XTick at 0x71f3650&gt;,
 &lt;matplotlib.axis.XTick at 0x7547790&gt;,
 &lt;matplotlib.axis.XTick at 0x7547bb0&gt;,
 &lt;matplotlib.axis.XTick at 0x7543050&gt;,
 &lt;matplotlib.axis.XTick at 0x75434d0&gt;,
 &lt;matplotlib.axis.XTick at 0x75437d0&gt;,
 &lt;matplotlib.axis.XTick at 0x7543c50&gt;,
 &lt;matplotlib.axis.XTick at 0x75da0f0&gt;,
 &lt;matplotlib.axis.XTick at 0x75da570&gt;,
 &lt;matplotlib.axis.XTick at 0x75da9d0&gt;,
 &lt;matplotlib.axis.XTick at 0x75dae50&gt;,
 &lt;matplotlib.axis.XTick at 0x75de2f0&gt;,
 &lt;matplotlib.axis.XTick at 0x75de770&gt;,
 &lt;matplotlib.axis.XTick at 0x75debf0&gt;,
 &lt;matplotlib.axis.XTick at 0x75e4090&gt;,
 &lt;matplotlib.axis.XTick at 0x75e4510&gt;,
 &lt;matplotlib.axis.XTick at 0x75e4990&gt;,
 &lt;matplotlib.axis.XTick at 0x75e4e10&gt;,
 &lt;matplotlib.axis.XTick at 0x75eb2b0&gt;,
 &lt;matplotlib.axis.XTick at 0x75eb730&gt;,
 &lt;matplotlib.axis.XTick at 0x75ebbb0&gt;,
 &lt;matplotlib.axis.XTick at 0x75f1050&gt;,
 &lt;matplotlib.axis.XTick at 0x75f14d0&gt;,
 &lt;matplotlib.axis.XTick at 0x75f1950&gt;,
 &lt;matplotlib.axis.XTick at 0x75f1dd0&gt;,
 &lt;matplotlib.axis.XTick at 0x75f8270&gt;,
 &lt;matplotlib.axis.XTick at 0x75f86f0&gt;,
 &lt;matplotlib.axis.XTick at 0x75f8b70&gt;,
 &lt;matplotlib.axis.XTick at 0x75f8ff0&gt;]</pre>
</div>

</div>

<div class="output_area">

<div class="prompt"></div>




<div class="output_png output_subarea ">
<img src="data:image/png;base64,iVBORw0KGgoAAAANSUhEUgAAAnQAAACsCAYAAADymzGkAAAABHNCSVQICAgIfAhkiAAAAAlwSFlz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"
>
</div>

</div>

</div>
</div>

</div>
<div class="cell border-box-sizing text_cell rendered"><div class="prompt input_prompt">
</div>
<div class="inner_cell">
<div class="text_cell_render border-box-sizing rendered_html">
<p>The figure above compares the filter output sequence computed using the DFT and <code>signal.lfilter</code>. The only difference is the transient startup section $ M-1 $ where the taps of the filter have not filled out. This technique is fine for processing blocks of convenient size and there are many other methods (e.g. overlap-add) to compute this using different blocks that patch together the output while dealing with these transient effects.</p>

</div>
</div>
</div>
<div class="cell border-box-sizing text_cell rendered"><div class="prompt input_prompt">
</div>
<div class="inner_cell">
<div class="text_cell_render border-box-sizing rendered_html">
<h2 id="Filter-Transfer-Functions">Filter Transfer Functions<a class="anchor-link" href="#Filter-Transfer-Functions">&#182;</a></h2><p>By keeping track of summation indicies, but it is not hard to show that</p>
<p>$$ Y(\omega) = H(\omega) X(\omega) $$</p>
<p>where $H(\omega)$ is called the <em>transfer function</em> or the <em>frequency response</em> of the filter $ h_n $. This product of transforms is much easier to work with than convolution and allows us to understand filter performance through the properties of $ H(\omega) $.</p>
<p>In our last example, by simply increasing the length of the moving average filter, we obtained many more zeros in $ H(\omega) $. Because our filters produce real outputs $ y_n $ given real inputs, $ x_n $, the zeros of the $ H(\omega) $ must be in complex conjugate pairs. To analyze this, we need to generalize the   Fourier Transfrom to the <em>z-transform</em>.</p>
<h3 id="Z-Transform">Z-Transform<a class="anchor-link" href="#Z-Transform">&#182;</a></h3><p>The filter's z-transform is defined as the following:</p>
<p>$$ H(z) = \sum_n h_n z^{-n} $$</p>
<p>The Fourier transform is a special case of the z-transform evaluated on the unit circle ($ z=\exp(j\omega) $), but $z$ more generally spans the entire complex plane. Thus, to understand how our moving average filter removes frequencies, we need to compute the complex roots of the z-transform of $ h_n $ as</p>
<p>$$ H(z) = \sum_n h_n z^{-n} $$</p>
<p>This notation emphasizes the transfer function as a polynomial of the complex variable $z$. Thus, for our eight-tap moving average filter, we have</p>
<p>$$ H(z) = \sum_{n=0}^{M-1} h_n z^{-n} = \frac{1}{8} \sum_{n=0}^7 z^{-n} =\frac{1}{8}  (1+z)(1+z^2)(1+z^4)/z^7 $$</p>
<p>Thus, the first zero occurs when $z=-1$ or when $ \exp(j\omega) = -1 \Rightarrow \omega=\pi$. The next pair of zeros occurs when $z= \pm j$ which corresponds to $ \omega = \pm \pi/2 $. Finally, the last four zeros are for $\omega=\pm \pi/4$ and $\omega=\pm 3\pi/4 $.  Notice that any filter with this  $ z+1 $ term will  eliminate the $ \omega=\pi $ (highest) frequency. Likewise, the term $ z-1 $ means that the filter zeros out $ \omega=0 $. In general, the roots of the z-transform <em>do not</em> lie on the unit circle. One way to understand FIR filter design is as the judicious placement of these zeros in the complex plane so the shape of the resulting transfer function $ H(z) $ evaluated on the unit circle satisfies our design specifications.</p>
<p>We need a special case of the Fourier transform as a tool for our analysis.</p>

</div>
</div>
</div>
<div class="cell border-box-sizing text_cell rendered"><div class="prompt input_prompt">
</div>
<div class="inner_cell">
<div class="text_cell_render border-box-sizing rendered_html">
<h2 id="Symmetry">Symmetry<a class="anchor-link" href="#Symmetry">&#182;</a></h2><p>There is a special case when the input sequence is symmetric,</p>
<p>$$ x_n = x_{-n} $$</p>
<p>which leads to a real-valued (i.e. zero-phase) Fourier transform property,</p>
<p>$$ H(\omega)= x_0+\sum_{n \gt 0} 2 x_n \cos\left(\omega n \right) $$</p>
<p>When the input is anti-symmetric,</p>
<p>$$ x_n = -x_{-n} $$</p>
<p>$$ H(\omega)= j\sum_{n \gt 0} 2 x_n \sin\left(\omega n \right) $$</p>
<p>The Fourier transform is purely imaginary (phase = $ \pi/2 $). Note that $ x_n = -x_{-n} $ for $ n=0 $ means that $ x_0=0 $ for this case.</p>

</div>
</div>
</div>
<div class="cell border-box-sizing text_cell rendered"><div class="prompt input_prompt">
</div>
<div class="inner_cell">
<div class="text_cell_render border-box-sizing rendered_html">
<h2 id="Causality">Causality<a class="anchor-link" href="#Causality">&#182;</a></h2><p>By changing the indexing in our first moving average filter example from  $ h_0 = h_1 = 1/2$ to $ h_{-1} = h_1 =1/2$, then we have symmetry around zero with the  resulting Fourier  transform,</p>
<p>$$ H(\omega) = \frac{1}{2} \exp \left( j\omega \right) +  \frac{1}{2} \exp\left( -j\omega \right) = \cos(\omega) $$</p>
<p>which is a <em>real</em> function of frequency (with zero-phase). While this is  nice theoretically, it is not possible practically because it requires future-knowledge of input sequence as shown below</p>
<p>$$ y_n = \sum_{k=0}^{M-1} h_n x_{n-k} = y_n = h_{-1} x_{n+1}+h_{1} x_{n-1} = \left( x_{n+1}+x_{n-1} \right)/2  $$</p>
<p>which shows that $ y_n $ depends on th future value of $ x_{n+1} $. This is what non-causal means and we must omit this kind of symmetry about zero from our class of admissible filter coefficents. However, we can scoot the  symmetric point to the center of the sequence at the cost of introducing a linear phase factor, $ \exp\left(-j\omega (M-1)/2 \right) $. Filters with linear phase do not distort the input phase across frequency. This means that all frequency components of the signal emerge at the other end of the filter in the same order they entered it. This is the concept of <em>group delay</em>. Otherwise, it would be very hard to retrieve any information embedded in the signal's phase in later  processing. Thus, we can build  linear phase causal filters with symmetric coefficients,</p>
<p>$$ h_n = h_{M-1-n} $$</p>
<p>or anti-symmetric coefficients,</p>
<p>$$ h_n = -h_{M-1-n} $$</p>
<p>by putting the point of symmetry at $ (M-1)/2 $. Note that this symmetry means that efficient hardware implementations can re-use stored filter coefficients.</p>

</div>
</div>
</div>
<div class="cell border-box-sizing text_cell rendered"><div class="prompt input_prompt">
</div>
<div class="inner_cell">
<div class="text_cell_render border-box-sizing rendered_html">
<h2 id="Symmetry-and-Anti-symmetry">Symmetry and Anti-symmetry<a class="anchor-link" href="#Symmetry-and-Anti-symmetry">&#182;</a></h2><p>Now we know how to build linear phase filters with symmetric or anti-symmetric coefficients and enforce causality by centering the point of symmetry, we can collect these facts and examine the resulting consequences. Given</p>
<p>$$ h_n = \pm h_{M-1-n} $$</p>
<p>with $ h_n =0 \hspace{0.5em} \forall n \ge M \wedge \forall n \lt 0 $</p>
<p>For even $ M $, the z-transform then becomes,</p>
<p>$$ H(z) = \sum_{n=0}^{M-1} z^{-n} h_n = h_0 + h_1 z^{-1} +\ldots + h_{M-1}z^{-M+1}= z^{-(M-1)/2} \sum_{n=0}^{M/2-1} h_n \left( z^{(M-1-2 n)/2} \pm z^{-(M-1-2 n)/2}\right) $$</p>
<p>Likewise, for odd $ M $,</p>
<p>$$ H(z) =  z^{-(M-1)/2} \left\lbrace h_{(M-1)/2}+ \sum_{n=0}^{(M-3)/2} h_n \left( z^{(M-1-2 n)/2} \pm z^{-(M-1-2 n)/2}\right) \right\rbrace$$</p>
<p>By substituting $ 1/z $ and multiplying both sides by $ z^{-(M-1)} $, we obtain</p>
<p>$$ z^{-(M-1)}H(z^{-1}) = \pm H(z) $$</p>
<p>This equation shows that if $z$ is a root, then so is $1/z$, and since we want a real-valued impulse response, complex roots must appear in conjugate pairs. Thus if $z_1$ is complex valued, then $ z_1^* $ is also a root and so is $1/z_1$ and $ 1/z_1^* $. Thus, one complex root  generates <em>four</em> roots.  This means that having $ M $ taps on the filter does not imply $M$ independent choices of the filter's roots or of the filter's coefficents. The symmetry conditions reduce the number of degrees of freedom available in the design.</p>
<h3 id="Extracting-the-Real-Part-of-the-Filter-Transfer-Function">Extracting the Real Part of the Filter Transfer Function<a class="anchor-link" href="#Extracting-the-Real-Part-of-the-Filter-Transfer-Function">&#182;</a></h3><p>We can evaluate these results  on the unit circle when $ h_n = +h_{M-n-1}$to obtain the following,</p>
<p>$$ H(\omega) = H_{re}(\omega)\exp \left( -j\omega(M-1)/2 \right) $$</p>
<p>where $ H_{re}(\omega)$ is a real-valued function that can be written as</p>
<p>$$ H_{re}(\omega) = 2 \sum_{n=0}^{(M/2)-1} h_n \cos \left( \omega \frac{M-1-2 n}{2}  \right) $$</p>
<p>for even $ M $ and as</p>
<p>$$ H_{re}(\omega) = h_{(M-1)/2}+ 2\sum_{n=0}^{(M-3)/2} h_n  \cos \left( \omega \frac{M-1-2 n}{2}  \right) $$</p>
<p>for odd $ M $. Similar results follow when $ h_n = -h_{M-1-n} $. For $ M $ even, we have</p>
<p>$$ H_{re}(\omega) = 2 \sum_{n=0}^{M/2-1} h_n \sin \left( \omega \frac{M-1-2 n}{2} \right) $$</p>
<p>and for odd $M$.</p>
<p>$$ H_{re}(\omega) = 2 \sum_{n=0}^{(M-3)/2} h_n \sin \left( \omega \frac{M-1-2 n}{2} \right) $$</p>
<p>By narrowing our focus to $ H_{re}(\omega)$ and separating out the linear-phase part, we can formulate design techniques that focus solely on this real-valued function, as we will see later with Parks-McClellen FIR design.</p>
<p>The table below shows the number of <em>independent</em> filter coefficients that must be specified for a FIR filter in each case.</p>
<table border="1">
    <tr>
    <th>  </th>
    <th> even M</th>
    <th> odd M </th>
    </tr>
    <tr>
        <td>symmetric</td><td>M/2</td><td style="text-align:center">(M+1)/2</td>
    </tr>
    <tr>
        <td>anti-symmetric</td><td>M/2</td><td style="text-align:center"> (M-1)/2</td>
    </tr>
</table><p>The design problem is finding the coefficents that satisfy a  filter's specifications. Picking any of the cases shown in the table depends on the application. For example, for odd $ M $ and the anti-symmetric case, $ H_{re}(\omega=0)= H_{re}(\omega=\pi)= 0 $ so this would be a bad choice for high or low pass filters.</p>
<p>Because many books refer to the items in this table as type-I through type-IV filters, I'm including this terminology in the table below.</p>
<table border="1">
    <tr>
    <th>  </th>
    <th> even M</th>
    <th> odd M </th>
    </tr>
    <tr>
        <td>symmetric</td><td>type-I</td><td style="text-align:center">type-II</td>
    </tr>
    <tr>
        <td>anti-symmetric</td><td>type-III</td><td style="text-align:center"> type-VI</td>
    </tr>
</table>
</div>
</div>
</div>
<div class="cell border-box-sizing text_cell rendered"><div class="prompt input_prompt">
</div>
<div class="inner_cell">
<div class="text_cell_render border-box-sizing rendered_html">
<h3 id="Example">Example<a class="anchor-link" href="#Example">&#182;</a></h3><p>We can use these results to reconsider our earlier result for the two-tap moving average filter for which $ M=2 $ and $ h_0 = 1/2 $. Then,</p>
<p>$$ H_{re}(\omega) =  \cos \left( \omega/2 \right) $$</p>
<p>with phase,</p>
<p>$$ \exp \left( -j\omega(M-1)/2 \right) = \exp \left( -j\omega/2 \right)$$</p>
<p>which equals $ \exp (-j\pi/4) $ when $ \omega = \pi/2 $ as we observed numerically earlier.</p>

</div>
</div>
</div>
<div class="cell border-box-sizing text_cell rendered"><div class="prompt input_prompt">
</div>
<div class="inner_cell">
<div class="text_cell_render border-box-sizing rendered_html">
<h2 id="Summary">Summary<a class="anchor-link" href="#Summary">&#182;</a></h2>
</div>
</div>
</div>
<div class="cell border-box-sizing text_cell rendered"><div class="prompt input_prompt">
</div>
<div class="inner_cell">
<div class="text_cell_render border-box-sizing rendered_html">
<p>In this section, we began our work with FIR filters by considering the concepts of linear phase, symmetry, and causality. By defining FIR filter coefficients symmetrically, we were able to enforce both causality and linear phase. We introduced the continuous-frequency version of the Fourier Transform and its relationship to the Discrete Fourier Transfrom (DFT). We demonstrated how the circular convolution of the DFT can be used to compute the continuous-frequency Fourier Transform version of the convolution. Then, we  introduced the z-transform as a more general tool than the Fourier transform for understanding the role of zeros in filter design. All this led us to conditions on the filter coeffients that satisfy our practical requirements of linear phase (no phase-distortions across frequency) and causality (no future knowledge of inputs). Finally, we considered the mathematical properties of FIR filters that apply to <em>any</em> design.</p>
<p>Sadly, all this work is exactly backwards because all our examples so far started with a set of filter coefficients ($ h_n $) and then drew conclusions, numerically and analytically, about their consequences. In a real, situation, we start with a desired filter specification, and <em>then</em> (by various means) come up with the corresponding filter coefficients. Our next section explores this topic.</p>
<p>As usual, the corresponding IPython notebook for this post  is available for download <a href="https://github.com/unpingco/Python-for-Signal-Processing/blob/master/Filtering.ipynb">here</a>.</p>
<p>Comments and corrections welcome!</p>

</div>
</div>
</div>
<div class="cell border-box-sizing text_cell rendered"><div class="prompt input_prompt">
</div>
<div class="inner_cell">
<div class="text_cell_render border-box-sizing rendered_html">
<h2 id="References">References<a class="anchor-link" href="#References">&#182;</a></h2><ul>
<li>Proakis, John G. ,<em>Digital signal processing: principles algorithms and applications</em>. Pearson Education India, 2001.</li>
</ul>

</div>
</div>
</div>
<div class="cell border-box-sizing code_cell rendered">
<div class="input">
<div class="prompt input_prompt">In&nbsp;[5]:</div>
<div class="inner_cell">
    <div class="input_area">
<div class=" highlight hl-ipython3"><pre><span></span><span class="o">%</span><span class="k">qtconsole</span>
</pre></div>

</div>
</div>
</div>

</div>
 


    </div>
  </div>

  </div>


  
    <footer class="footer hidden-print">
      <div class="container">
        <div class="col-md-4">
          <p>
            This website does not host notebooks, it only renders notebooks
            available on other websites.
          </p>
        </div>

        <div class="col-md-4">
          <p>
            Delivered by <a href="http://www.fastly.com/">Fastly</a>,
            Rendered by <a href="https://developer.rackspace.com/?nbviewer=awesome">Rackspace</a>
          </p>
          <p>
            nbviewer GitHub <a href="https://github.com/jupyter/nbviewer">repository</a>.
          </p>
        </div>

        <div class="col-md-4">
          
  
            
              <p>
                nbviewer version:
                <a href="https://github.com/jupyter/nbviewer/commit/aa567da928dd022ce6a75b6c131a5ef3ff5c211a">
                  aa567da
                </a>
              </p>
            
          
  
  <p>
    nbconvert version: <a href="https://github.com/jupyter/nbconvert/releases/tag/5.3.1">
      5.3.1
    </a>
  </p>
  

          
  
  
  <p>
    Rendered
    <span class='date' data-date='Mon, 28 Jan 2019 22:21:32 UTC' title='Mon, 28 Jan 2019 22:21:32 UTC'>(Mon, 28 Jan 2019 22:21:32 UTC)</span>
  </p>
  

        </div>
      </div>
    </footer>
  

  <script data-cfasync="false" src="/cdn-cgi/scripts/5c5dd728/cloudflare-static/email-decode.min.js"></script><script src="/static/components/bootstrap/js/bootstrap.min.js?v=5869c96cc8f19086aee625d670d741f9"></script>
  <script src="/static/components/headroom.js/dist/headroom.min.js?v=b0a311ea668f8e768ea375f4a7abb81c"></script>
  <script src="/static/components/headroom.js/dist/jQuery.headroom.min.js?v=f3a1bae118315d0c234afc74dc6aab71"></script>

  
  
  <script>
    $(function(){ $("#menubar").headroom({
      tolerance: 5,
      offset: 205,
      classes: {
        initial: "animated",
        pinned: "slideInDown",
        unpinned: "slideOutUp"
      }
    })});
  </script>


  
  <script>
    (function(i,s,o,g,r,a,m){i['GoogleAnalyticsObject']=r;i[r]=i[r]||function(){
      (i[r].q=i[r].q||[]).push(arguments)},i[r].l=1*new Date();a=s.createElement(o),
      m=s.getElementsByTagName(o)[0];a.async=1;a.src=g;m.parentNode.insertBefore(a,m)
    })(window,document,'script','https://www.google-analytics.com/analytics.js','ga');
    ga('create', 'UA-52617120-5', 'auto',
       {'storage': 'none'});
    ga('set', 'anonymizeIp', true);
    ga('send', 'pageview');
  </script>
  
  <script>
    require({
        paths: {
          moment: "/static/components/moment/min/moment.min.js?v=89f87298ad94aa1e6b92f42eb66da043"
        }
      }, ["moment"], function(moment){
      var date = $("footer .date"),
        m = moment(new Date(date.data('date'))),
        update = function(){ date.text(m.fromNow()); };
      setInterval(update, 61*1000);
      update();
      var w = $(window).scroll(function(event){
        $("body").toggleClass("scrolled", w.scrollTop() > 0);
      });
    });
  </script>

  <!--NEW RELIC Stop Perf Measurement-->
  
  <!--NEW RELIC End-->
</body>
</html>